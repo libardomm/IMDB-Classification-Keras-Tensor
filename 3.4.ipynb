{
 "cells": [
  {
   "cell_type": "code",
   "execution_count": 2,
   "metadata": {},
   "outputs": [],
   "source": [
    "from keras.datasets import imdb\n",
    "(train_data, train_labels),(test_data, test_labels)=imdb.load_data(num_words=10000)"
   ]
  },
  {
   "cell_type": "code",
   "execution_count": 3,
   "metadata": {},
   "outputs": [],
   "source": [
    "import numpy as np"
   ]
  },
  {
   "cell_type": "code",
   "execution_count": 4,
   "metadata": {
    "scrolled": true
   },
   "outputs": [
    {
     "data": {
      "text/plain": [
       "[1,\n",
       " 14,\n",
       " 22,\n",
       " 16,\n",
       " 43,\n",
       " 530,\n",
       " 973,\n",
       " 1622,\n",
       " 1385,\n",
       " 65,\n",
       " 458,\n",
       " 4468,\n",
       " 66,\n",
       " 3941,\n",
       " 4,\n",
       " 173,\n",
       " 36,\n",
       " 256,\n",
       " 5,\n",
       " 25,\n",
       " 100,\n",
       " 43,\n",
       " 838,\n",
       " 112,\n",
       " 50,\n",
       " 670,\n",
       " 2,\n",
       " 9,\n",
       " 35,\n",
       " 480,\n",
       " 284,\n",
       " 5,\n",
       " 150,\n",
       " 4,\n",
       " 172,\n",
       " 112,\n",
       " 167,\n",
       " 2,\n",
       " 336,\n",
       " 385,\n",
       " 39,\n",
       " 4,\n",
       " 172,\n",
       " 4536,\n",
       " 1111,\n",
       " 17,\n",
       " 546,\n",
       " 38,\n",
       " 13,\n",
       " 447,\n",
       " 4,\n",
       " 192,\n",
       " 50,\n",
       " 16,\n",
       " 6,\n",
       " 147,\n",
       " 2025,\n",
       " 19,\n",
       " 14,\n",
       " 22,\n",
       " 4,\n",
       " 1920,\n",
       " 4613,\n",
       " 469,\n",
       " 4,\n",
       " 22,\n",
       " 71,\n",
       " 87,\n",
       " 12,\n",
       " 16,\n",
       " 43,\n",
       " 530,\n",
       " 38,\n",
       " 76,\n",
       " 15,\n",
       " 13,\n",
       " 1247,\n",
       " 4,\n",
       " 22,\n",
       " 17,\n",
       " 515,\n",
       " 17,\n",
       " 12,\n",
       " 16,\n",
       " 626,\n",
       " 18,\n",
       " 2,\n",
       " 5,\n",
       " 62,\n",
       " 386,\n",
       " 12,\n",
       " 8,\n",
       " 316,\n",
       " 8,\n",
       " 106,\n",
       " 5,\n",
       " 4,\n",
       " 2223,\n",
       " 5244,\n",
       " 16,\n",
       " 480,\n",
       " 66,\n",
       " 3785,\n",
       " 33,\n",
       " 4,\n",
       " 130,\n",
       " 12,\n",
       " 16,\n",
       " 38,\n",
       " 619,\n",
       " 5,\n",
       " 25,\n",
       " 124,\n",
       " 51,\n",
       " 36,\n",
       " 135,\n",
       " 48,\n",
       " 25,\n",
       " 1415,\n",
       " 33,\n",
       " 6,\n",
       " 22,\n",
       " 12,\n",
       " 215,\n",
       " 28,\n",
       " 77,\n",
       " 52,\n",
       " 5,\n",
       " 14,\n",
       " 407,\n",
       " 16,\n",
       " 82,\n",
       " 2,\n",
       " 8,\n",
       " 4,\n",
       " 107,\n",
       " 117,\n",
       " 5952,\n",
       " 15,\n",
       " 256,\n",
       " 4,\n",
       " 2,\n",
       " 7,\n",
       " 3766,\n",
       " 5,\n",
       " 723,\n",
       " 36,\n",
       " 71,\n",
       " 43,\n",
       " 530,\n",
       " 476,\n",
       " 26,\n",
       " 400,\n",
       " 317,\n",
       " 46,\n",
       " 7,\n",
       " 4,\n",
       " 2,\n",
       " 1029,\n",
       " 13,\n",
       " 104,\n",
       " 88,\n",
       " 4,\n",
       " 381,\n",
       " 15,\n",
       " 297,\n",
       " 98,\n",
       " 32,\n",
       " 2071,\n",
       " 56,\n",
       " 26,\n",
       " 141,\n",
       " 6,\n",
       " 194,\n",
       " 7486,\n",
       " 18,\n",
       " 4,\n",
       " 226,\n",
       " 22,\n",
       " 21,\n",
       " 134,\n",
       " 476,\n",
       " 26,\n",
       " 480,\n",
       " 5,\n",
       " 144,\n",
       " 30,\n",
       " 5535,\n",
       " 18,\n",
       " 51,\n",
       " 36,\n",
       " 28,\n",
       " 224,\n",
       " 92,\n",
       " 25,\n",
       " 104,\n",
       " 4,\n",
       " 226,\n",
       " 65,\n",
       " 16,\n",
       " 38,\n",
       " 1334,\n",
       " 88,\n",
       " 12,\n",
       " 16,\n",
       " 283,\n",
       " 5,\n",
       " 16,\n",
       " 4472,\n",
       " 113,\n",
       " 103,\n",
       " 32,\n",
       " 15,\n",
       " 16,\n",
       " 5345,\n",
       " 19,\n",
       " 178,\n",
       " 32]"
      ]
     },
     "execution_count": 4,
     "metadata": {},
     "output_type": "execute_result"
    }
   ],
   "source": [
    "train_data[0]"
   ]
  },
  {
   "cell_type": "code",
   "execution_count": 5,
   "metadata": {},
   "outputs": [
    {
     "data": {
      "text/plain": [
       "0"
      ]
     },
     "execution_count": 5,
     "metadata": {},
     "output_type": "execute_result"
    }
   ],
   "source": [
    "train_labels[1]"
   ]
  },
  {
   "cell_type": "code",
   "execution_count": 6,
   "metadata": {},
   "outputs": [
    {
     "data": {
      "text/plain": [
       "9999"
      ]
     },
     "execution_count": 6,
     "metadata": {},
     "output_type": "execute_result"
    }
   ],
   "source": [
    "max([max(sequence) for sequence in  train_data])"
   ]
  },
  {
   "cell_type": "code",
   "execution_count": 7,
   "metadata": {},
   "outputs": [],
   "source": [
    "word_index=imdb.get_word_index()\n",
    "reverse_world_index=dict(\n",
    "    [(value, key) for (key, value) in word_index.items()])\n",
    "decoded_review= ''.join(\n",
    "    [reverse_world_index.get(i-3, '?') for i in train_data[0]])\n"
   ]
  },
  {
   "cell_type": "markdown",
   "metadata": {},
   "source": [
    "#### Enconding the integer sequences into a binary matrix"
   ]
  },
  {
   "cell_type": "code",
   "execution_count": 8,
   "metadata": {},
   "outputs": [],
   "source": [
    "#Data"
   ]
  },
  {
   "cell_type": "code",
   "execution_count": 9,
   "metadata": {},
   "outputs": [],
   "source": [
    "import numpy as np\n",
    "\n",
    "def vectorize_sequences(sequences, dimension=10000):\n",
    "    results= np.zeros((len(sequences), dimension))\n",
    "    for i, sequence in enumerate(sequences):\n",
    "        results[i,sequence]=1.\n",
    "    return results\n",
    "\n"
   ]
  },
  {
   "cell_type": "code",
   "execution_count": 10,
   "metadata": {},
   "outputs": [],
   "source": [
    "x_train=vectorize_sequences(train_data)\n",
    "x_test= vectorize_sequences(test_data)"
   ]
  },
  {
   "cell_type": "code",
   "execution_count": 11,
   "metadata": {},
   "outputs": [
    {
     "data": {
      "text/plain": [
       "array([0., 1., 1., ..., 0., 0., 0.])"
      ]
     },
     "execution_count": 11,
     "metadata": {},
     "output_type": "execute_result"
    }
   ],
   "source": [
    "x_train[0]"
   ]
  },
  {
   "cell_type": "code",
   "execution_count": 12,
   "metadata": {},
   "outputs": [],
   "source": [
    "#Labels"
   ]
  },
  {
   "cell_type": "code",
   "execution_count": 13,
   "metadata": {},
   "outputs": [],
   "source": [
    "y_train=np.asanyarray(train_labels).astype('float32')"
   ]
  },
  {
   "cell_type": "code",
   "execution_count": 14,
   "metadata": {},
   "outputs": [],
   "source": [
    "y_test=np.asarray(test_labels).astype('float32')"
   ]
  },
  {
   "cell_type": "markdown",
   "metadata": {},
   "source": [
    "#### Build your network"
   ]
  },
  {
   "cell_type": "code",
   "execution_count": 15,
   "metadata": {},
   "outputs": [],
   "source": [
    "### Listing   The Model definition"
   ]
  },
  {
   "cell_type": "code",
   "execution_count": 16,
   "metadata": {},
   "outputs": [],
   "source": [
    "from keras import models\n",
    "from keras import layers\n",
    "from keras import optimizers\n"
   ]
  },
  {
   "cell_type": "code",
   "execution_count": 17,
   "metadata": {},
   "outputs": [],
   "source": [
    "model= models.Sequential()\n",
    "model.add(layers.Dense(16, activation='relu', input_shape=(10000,)))\n",
    "model.add(layers.Dense(16, activation='relu'))\n",
    "model.add(layers.Dense(1,activation='sigmoid'))"
   ]
  },
  {
   "cell_type": "markdown",
   "metadata": {},
   "source": [
    "#### Model compiling the model"
   ]
  },
  {
   "cell_type": "code",
   "execution_count": 18,
   "metadata": {},
   "outputs": [],
   "source": [
    "model.compile(optimizer='rmsprop',\n",
    "              loss='binary_crossentropy',\n",
    "              metrics=['accuracy'])"
   ]
  },
  {
   "cell_type": "markdown",
   "metadata": {},
   "source": [
    "#### configure optimizers"
   ]
  },
  {
   "cell_type": "code",
   "execution_count": 19,
   "metadata": {},
   "outputs": [],
   "source": [
    "model.compile(optimizer=optimizers.RMSprop(lr=0.001),\n",
    "             loss='binary_crossentropy',\n",
    "             metrics=['accuracy'])"
   ]
  },
  {
   "cell_type": "markdown",
   "metadata": {},
   "source": [
    "#### using custom losses and metrics "
   ]
  },
  {
   "cell_type": "code",
   "execution_count": 20,
   "metadata": {},
   "outputs": [],
   "source": [
    "from keras import losses\n",
    "from keras import metrics\n"
   ]
  },
  {
   "cell_type": "code",
   "execution_count": 21,
   "metadata": {},
   "outputs": [],
   "source": [
    "model.compile(optimizer=optimizers.RMSprop(lr=0.001),\n",
    "             loss=losses.binary_crossentropy,\n",
    "             metrics=[metrics.binary_accuracy])"
   ]
  },
  {
   "cell_type": "markdown",
   "metadata": {},
   "source": [
    "### Validating your aproach"
   ]
  },
  {
   "cell_type": "markdown",
   "metadata": {},
   "source": [
    "#### setting aside a validation set"
   ]
  },
  {
   "cell_type": "code",
   "execution_count": 22,
   "metadata": {},
   "outputs": [],
   "source": [
    "x_val=x_train[:10000]\n",
    "partial_x_train=x_train[10000:]"
   ]
  },
  {
   "cell_type": "code",
   "execution_count": 23,
   "metadata": {},
   "outputs": [],
   "source": [
    "y_val=y_train[:10000]\n",
    "partial_y_train=y_train[10000:]"
   ]
  },
  {
   "cell_type": "markdown",
   "metadata": {},
   "source": [
    "#### Training model"
   ]
  },
  {
   "cell_type": "code",
   "execution_count": 24,
   "metadata": {},
   "outputs": [],
   "source": [
    "model.compile(optimizer='rmsprop',\n",
    "             loss='binary_crossentropy',\n",
    "             metrics=['acc'])"
   ]
  },
  {
   "cell_type": "code",
   "execution_count": 25,
   "metadata": {},
   "outputs": [
    {
     "name": "stdout",
     "output_type": "stream",
     "text": [
      "Train on 15000 samples, validate on 10000 samples\n",
      "Epoch 1/20\n",
      "15000/15000 [==============================] - 2s 102us/step - loss: 0.5090 - acc: 0.7813 - val_loss: 0.3794 - val_acc: 0.8686\n",
      "Epoch 2/20\n",
      "15000/15000 [==============================] - 1s 82us/step - loss: 0.3006 - acc: 0.9049 - val_loss: 0.3003 - val_acc: 0.8893\n",
      "Epoch 3/20\n",
      "15000/15000 [==============================] - 1s 85us/step - loss: 0.2180 - acc: 0.9285 - val_loss: 0.3084 - val_acc: 0.8716\n",
      "Epoch 4/20\n",
      "15000/15000 [==============================] - 1s 88us/step - loss: 0.1751 - acc: 0.9435 - val_loss: 0.2837 - val_acc: 0.8837\n",
      "Epoch 5/20\n",
      "15000/15000 [==============================] - 1s 83us/step - loss: 0.1426 - acc: 0.9541 - val_loss: 0.2842 - val_acc: 0.8872\n",
      "Epoch 6/20\n",
      "15000/15000 [==============================] - 1s 84us/step - loss: 0.1149 - acc: 0.9652 - val_loss: 0.3150 - val_acc: 0.8776\n",
      "Epoch 7/20\n",
      "15000/15000 [==============================] - 1s 85us/step - loss: 0.0978 - acc: 0.9708 - val_loss: 0.3128 - val_acc: 0.8845\n",
      "Epoch 8/20\n",
      "15000/15000 [==============================] - 1s 87us/step - loss: 0.0806 - acc: 0.9765 - val_loss: 0.3864 - val_acc: 0.8650\n",
      "Epoch 9/20\n",
      "15000/15000 [==============================] - 1s 84us/step - loss: 0.0660 - acc: 0.9821 - val_loss: 0.3639 - val_acc: 0.8779\n",
      "Epoch 10/20\n",
      "15000/15000 [==============================] - 1s 87us/step - loss: 0.0563 - acc: 0.9852 - val_loss: 0.3844 - val_acc: 0.8796\n",
      "Epoch 11/20\n",
      "15000/15000 [==============================] - 1s 84us/step - loss: 0.0430 - acc: 0.9905 - val_loss: 0.4145 - val_acc: 0.8783\n",
      "Epoch 12/20\n",
      "15000/15000 [==============================] - 1s 88us/step - loss: 0.0376 - acc: 0.9922 - val_loss: 0.4585 - val_acc: 0.8682\n",
      "Epoch 13/20\n",
      "15000/15000 [==============================] - 1s 88us/step - loss: 0.0299 - acc: 0.9927 - val_loss: 0.4721 - val_acc: 0.8731\n",
      "Epoch 14/20\n",
      "15000/15000 [==============================] - 1s 89us/step - loss: 0.0245 - acc: 0.9943 - val_loss: 0.5058 - val_acc: 0.8724\n",
      "Epoch 15/20\n",
      "15000/15000 [==============================] - 1s 84us/step - loss: 0.0188 - acc: 0.9967 - val_loss: 0.5332 - val_acc: 0.8705\n",
      "Epoch 16/20\n",
      "15000/15000 [==============================] - 1s 90us/step - loss: 0.0169 - acc: 0.9966 - val_loss: 0.5658 - val_acc: 0.8689\n",
      "Epoch 17/20\n",
      "15000/15000 [==============================] - 1s 86us/step - loss: 0.0113 - acc: 0.9987 - val_loss: 0.5998 - val_acc: 0.8659\n",
      "Epoch 18/20\n",
      "15000/15000 [==============================] - 1s 84us/step - loss: 0.0125 - acc: 0.9975 - val_loss: 0.6318 - val_acc: 0.8674\n",
      "Epoch 19/20\n",
      "15000/15000 [==============================] - 1s 85us/step - loss: 0.0061 - acc: 0.9997 - val_loss: 0.7342 - val_acc: 0.8527\n",
      "Epoch 20/20\n",
      "15000/15000 [==============================] - 1s 85us/step - loss: 0.0074 - acc: 0.9989 - val_loss: 0.6912 - val_acc: 0.8664\n"
     ]
    }
   ],
   "source": [
    "history=model.fit(partial_x_train,\n",
    "                 partial_y_train, \n",
    "                 epochs=20,\n",
    "                 batch_size=512,\n",
    "                 validation_data=(x_val,y_val))"
   ]
  },
  {
   "cell_type": "code",
   "execution_count": 27,
   "metadata": {},
   "outputs": [
    {
     "data": {
      "text/plain": [
       "dict_keys(['val_loss', 'val_acc', 'loss', 'acc'])"
      ]
     },
     "execution_count": 27,
     "metadata": {},
     "output_type": "execute_result"
    }
   ],
   "source": [
    "history_dict=history.history\n",
    "history_dict.keys()"
   ]
  },
  {
   "cell_type": "markdown",
   "metadata": {},
   "source": [
    "#### Plotting the training and validation loss"
   ]
  },
  {
   "cell_type": "code",
   "execution_count": 28,
   "metadata": {},
   "outputs": [],
   "source": [
    "import matplotlib.pyplot as plt\n",
    "history_dict= history.history\n",
    "loss_values = history_dict['loss']\n",
    "val_loss_values=history_dict['val_loss']\n",
    "epochs=range(1, len(val_loss_values) +1)"
   ]
  },
  {
   "cell_type": "code",
   "execution_count": 29,
   "metadata": {},
   "outputs": [
    {
     "data": {
      "image/png": "[encoded data removed]",
      "text/plain": [
       "<Figure size 432x288 with 1 Axes>"
      ]
     },
     "metadata": {},
     "output_type": "display_data"
    }
   ],
   "source": [
    "plt.plot(epochs, loss_values, 'bo',label='Training Loss')\n",
    "plt.plot(epochs, val_loss_values, 'b', label='Validation loss')\n",
    "plt.title('Traing and Validation loss')\n",
    "plt.xlabel('Epochs')\n",
    "plt.ylabel('Loss')\n",
    "plt.legend()\n",
    "plt.show()"
   ]
  },
  {
   "cell_type": "markdown",
   "metadata": {},
   "source": [
    "#### Plotting the training and validation accuracy"
   ]
  },
  {
   "cell_type": "code",
   "execution_count": 28,
   "metadata": {},
   "outputs": [
    {
     "data": {
      "text/plain": [
       "<Figure size 432x288 with 0 Axes>"
      ]
     },
     "metadata": {},
     "output_type": "display_data"
    }
   ],
   "source": [
    "plt.clf()\n",
    "acc_values=history_dict['acc']\n",
    "val_acc_values= history_dict['val_acc']"
   ]
  },
  {
   "cell_type": "code",
   "execution_count": 29,
   "metadata": {},
   "outputs": [
    {
     "data": {
      "image/png": "[encoded data removed]",
      "text/plain": [
       "<Figure size 432x288 with 1 Axes>"
      ]
     },
     "metadata": {},
     "output_type": "display_data"
    }
   ],
   "source": [
    "plt.plot(epochs, acc_values,'bo', label='Training acc')\n",
    "plt.plot(epochs, val_acc_values,'b', label='Validation acc')\n",
    "plt.title('Training and validation accuracy')\n",
    "plt.xlabel('Epochs')\n",
    "plt.ylabel('Loss')\n",
    "plt.legend()\n",
    "plt.show()\n"
   ]
  },
  {
   "cell_type": "markdown",
   "metadata": {},
   "source": [
    "#### Retraining a model from scratch"
   ]
  },
  {
   "cell_type": "code",
   "execution_count": 30,
   "metadata": {},
   "outputs": [],
   "source": [
    "model=models.Sequential()\n",
    "model.add(layers.Dense(16, activation='relu',input_shape=(10000,)))\n",
    "model.add(layers.Dense(16, activation='relu'))\n",
    "model.add(layers.Dense(1, activation='sigmoid'))"
   ]
  },
  {
   "cell_type": "code",
   "execution_count": 31,
   "metadata": {},
   "outputs": [],
   "source": [
    "model.compile(optimizer='rmsprop',\n",
    "              loss='binary_crossentropy',\n",
    "              metrics=['accuracy'])"
   ]
  },
  {
   "cell_type": "code",
   "execution_count": 32,
   "metadata": {},
   "outputs": [
    {
     "name": "stdout",
     "output_type": "stream",
     "text": [
      "Epoch 1/4\n",
      "25000/25000 [==============================] - 2s 61us/step - loss: 0.4749 - acc: 0.8217\n",
      "Epoch 2/4\n",
      "25000/25000 [==============================] - 1s 57us/step - loss: 0.2658 - acc: 0.9097\n",
      "Epoch 3/4\n",
      "25000/25000 [==============================] - 1s 58us/step - loss: 0.1983 - acc: 0.9297\n",
      "Epoch 4/4\n",
      "25000/25000 [==============================] - 1s 57us/step - loss: 0.1679 - acc: 0.9403\n",
      "25000/25000 [==============================] - 1s 49us/step\n"
     ]
    }
   ],
   "source": [
    "model.fit(x_train, y_train, epochs=4, batch_size=512)\n",
    "reults  =model.evaluate(x_test, y_test)"
   ]
  },
  {
   "cell_type": "code",
   "execution_count": 33,
   "metadata": {},
   "outputs": [
    {
     "data": {
      "text/plain": [
       "[0.32380225841522214, 0.87324]"
      ]
     },
     "execution_count": 33,
     "metadata": {},
     "output_type": "execute_result"
    }
   ],
   "source": [
    "reults"
   ]
  },
  {
   "cell_type": "markdown",
   "metadata": {},
   "source": [
    "##### Using a trained network to generate prediction on new data"
   ]
  },
  {
   "cell_type": "code",
   "execution_count": 50,
   "metadata": {},
   "outputs": [
    {
     "data": {
      "text/plain": [
       "array([[0.13887374],\n",
       "       [0.99970275],\n",
       "       [0.2972498 ],\n",
       "       ...,\n",
       "       [0.0716464 ],\n",
       "       [0.04329092],\n",
       "       [0.4764882 ]], dtype=float32)"
      ]
     },
     "execution_count": 50,
     "metadata": {},
     "output_type": "execute_result"
    }
   ],
   "source": [
    "y=model.predict(x_test)\n",
    "y"
   ]
  },
  {
   "cell_type": "code",
   "execution_count": 56,
   "metadata": {},
   "outputs": [],
   "source": [
    "x=np.arange(len(y))"
   ]
  },
  {
   "cell_type": "code",
   "execution_count": 61,
   "metadata": {},
   "outputs": [
    {
     "data": {
      "text/plain": [
       "[<matplotlib.lines.Line2D at 0x7f8c6def0400>]"
      ]
     },
     "execution_count": 61,
     "metadata": {},
     "output_type": "execute_result"
    },
    {
     "data": {
      "image/png": "[encoded data removed]",
      "text/plain": [
       "<Figure size 3600x1080 with 1 Axes>"
      ]
     },
     "metadata": {},
     "output_type": "display_data"
    }
   ],
   "source": [
    "plt.figure(figsize=(50,15))\n",
    "plt.plot(x,y)"
   ]
  },
  {
   "cell_type": "markdown",
   "metadata": {},
   "source": [
    "#### Funtion"
   ]
  },
  {
   "cell_type": "code",
   "execution_count": 30,
   "metadata": {},
   "outputs": [],
   "source": [
    "def MyFirstNN(h_a, h_b, h_c, f_a, f_b, f_c, n_epoch, batchsize):\n",
    "    model=models.Sequential()\n",
    "    model.add(layers.Dense(h_a, activation=f_a,input_shape=(10000,)))\n",
    "    model.add(layers.Dense(h_b, activation=f_b))\n",
    "    model.add(layers.Dense(h_c, activation=f_c))\n",
    "    \n",
    "    model.compile(optimizer='rmsprop',\n",
    "              loss='binary_crossentropy',\n",
    "              metrics=['accuracy'])\n",
    "    \n",
    "    model.fit(x_train, y_train, epochs=n_epoch, batch_size=batchsize)\n",
    "    reults  =model.evaluate(x_test, y_test)\n",
    "    return reults\n",
    "    \n",
    "    "
   ]
  },
  {
   "cell_type": "markdown",
   "metadata": {},
   "source": [
    "#### 4 Epochs"
   ]
  },
  {
   "cell_type": "code",
   "execution_count": 31,
   "metadata": {},
   "outputs": [
    {
     "name": "stdout",
     "output_type": "stream",
     "text": [
      "Epoch 1/4\n",
      "25000/25000 [==============================] - 2s 62us/step - loss: 0.4749 - acc: 0.8217\n",
      "Epoch 2/4\n",
      "25000/25000 [==============================] - 1s 59us/step - loss: 0.2658 - acc: 0.9097\n",
      "Epoch 3/4\n",
      "25000/25000 [==============================] - 1s 59us/step - loss: 0.1982 - acc: 0.9299\n",
      "Epoch 4/4\n",
      "25000/25000 [==============================] - 2s 62us/step - loss: 0.1679 - acc: 0.9404\n",
      "25000/25000 [==============================] - 1s 34us/step\n"
     ]
    },
    {
     "data": {
      "text/plain": [
       "[0.3231537017917633, 0.87348]"
      ]
     },
     "execution_count": 31,
     "metadata": {},
     "output_type": "execute_result"
    }
   ],
   "source": [
    "MyFirstNN(16,16,1,'relu','relu','sigmoid',4,512)"
   ]
  },
  {
   "cell_type": "markdown",
   "metadata": {},
   "source": [
    "#### 8 Epochs"
   ]
  },
  {
   "cell_type": "code",
   "execution_count": 72,
   "metadata": {},
   "outputs": [
    {
     "name": "stdout",
     "output_type": "stream",
     "text": [
      "Epoch 1/8\n",
      "25000/25000 [==============================] - 1s 57us/step - loss: 0.4300 - acc: 0.8249\n",
      "Epoch 2/8\n",
      "25000/25000 [==============================] - 1s 48us/step - loss: 0.2509 - acc: 0.9103\n",
      "Epoch 3/8\n",
      "25000/25000 [==============================] - 1s 49us/step - loss: 0.1938 - acc: 0.9309\n",
      "Epoch 4/8\n",
      "25000/25000 [==============================] - 1s 50us/step - loss: 0.1642 - acc: 0.9417\n",
      "Epoch 5/8\n",
      "25000/25000 [==============================] - 1s 49us/step - loss: 0.1411 - acc: 0.9503\n",
      "Epoch 6/8\n",
      "25000/25000 [==============================] - 1s 48us/step - loss: 0.1231 - acc: 0.9575\n",
      "Epoch 7/8\n",
      "25000/25000 [==============================] - 1s 52us/step - loss: 0.1092 - acc: 0.9617\n",
      "Epoch 8/8\n",
      "25000/25000 [==============================] - 1s 50us/step - loss: 0.0968 - acc: 0.9678\n",
      "25000/25000 [==============================] - 1s 32us/step\n"
     ]
    },
    {
     "data": {
      "text/plain": [
       "[0.3950014105510712, 0.86836]"
      ]
     },
     "execution_count": 72,
     "metadata": {},
     "output_type": "execute_result"
    }
   ],
   "source": [
    "MyFirstNN(16,16,1,'relu','relu','sigmoid',8,512)"
   ]
  },
  {
   "cell_type": "markdown",
   "metadata": {},
   "source": [
    "#### 12 Epochs"
   ]
  },
  {
   "cell_type": "code",
   "execution_count": 73,
   "metadata": {},
   "outputs": [
    {
     "name": "stdout",
     "output_type": "stream",
     "text": [
      "Epoch 1/12\n",
      "25000/25000 [==============================] - 2s 63us/step - loss: 0.4684 - acc: 0.8249\n",
      "Epoch 2/12\n",
      "25000/25000 [==============================] - 1s 56us/step - loss: 0.2645 - acc: 0.9071\n",
      "Epoch 3/12\n",
      "25000/25000 [==============================] - 1s 56us/step - loss: 0.2029 - acc: 0.9268\n",
      "Epoch 4/12\n",
      "25000/25000 [==============================] - 1s 56us/step - loss: 0.1684 - acc: 0.9396\n",
      "Epoch 5/12\n",
      "25000/25000 [==============================] - 1s 55us/step - loss: 0.1458 - acc: 0.9491\n",
      "Epoch 6/12\n",
      "25000/25000 [==============================] - 1s 55us/step - loss: 0.1277 - acc: 0.9562\n",
      "Epoch 7/12\n",
      "25000/25000 [==============================] - 1s 58us/step - loss: 0.1120 - acc: 0.9607\n",
      "Epoch 8/12\n",
      "25000/25000 [==============================] - 1s 58us/step - loss: 0.0992 - acc: 0.9671\n",
      "Epoch 9/12\n",
      "25000/25000 [==============================] - 2s 60us/step - loss: 0.0868 - acc: 0.9715\n",
      "Epoch 10/12\n",
      "25000/25000 [==============================] - 1s 56us/step - loss: 0.0770 - acc: 0.9746\n",
      "Epoch 11/12\n",
      "25000/25000 [==============================] - 1s 58us/step - loss: 0.0674 - acc: 0.9784\n",
      "Epoch 12/12\n",
      "25000/25000 [==============================] - 1s 57us/step - loss: 0.0595 - acc: 0.9816\n",
      "25000/25000 [==============================] - 1s 38us/step\n"
     ]
    },
    {
     "data": {
      "text/plain": [
       "[0.5005189878416061, 0.85916]"
      ]
     },
     "execution_count": 73,
     "metadata": {},
     "output_type": "execute_result"
    }
   ],
   "source": [
    "MyFirstNN(16,16,1,'relu','relu','sigmoid',12,512)"
   ]
  },
  {
   "cell_type": "markdown",
   "metadata": {},
   "source": [
    "#### 16 Epochs"
   ]
  },
  {
   "cell_type": "code",
   "execution_count": 74,
   "metadata": {},
   "outputs": [
    {
     "name": "stdout",
     "output_type": "stream",
     "text": [
      "Epoch 1/16\n",
      "25000/25000 [==============================] - 2s 64us/step - loss: 0.4487 - acc: 0.8251\n",
      "Epoch 2/16\n",
      "25000/25000 [==============================] - 1s 59us/step - loss: 0.2590 - acc: 0.9083\n",
      "Epoch 3/16\n",
      "25000/25000 [==============================] - 1s 56us/step - loss: 0.1963 - acc: 0.9298\n",
      "Epoch 4/16\n",
      "25000/25000 [==============================] - 1s 55us/step - loss: 0.1671 - acc: 0.9405\n",
      "Epoch 5/16\n",
      "25000/25000 [==============================] - 1s 55us/step - loss: 0.1470 - acc: 0.9479\n",
      "Epoch 6/16\n",
      "25000/25000 [==============================] - 1s 55us/step - loss: 0.1271 - acc: 0.9563\n",
      "Epoch 7/16\n",
      "25000/25000 [==============================] - 1s 55us/step - loss: 0.1168 - acc: 0.9593\n",
      "Epoch 8/16\n",
      "25000/25000 [==============================] - 1s 55us/step - loss: 0.1013 - acc: 0.9659\n",
      "Epoch 9/16\n",
      "25000/25000 [==============================] - 1s 55us/step - loss: 0.0931 - acc: 0.9691\n",
      "Epoch 10/16\n",
      "25000/25000 [==============================] - 1s 55us/step - loss: 0.0831 - acc: 0.9720\n",
      "Epoch 11/16\n",
      "25000/25000 [==============================] - 1s 55us/step - loss: 0.0734 - acc: 0.9765\n",
      "Epoch 12/16\n",
      "25000/25000 [==============================] - 1s 55us/step - loss: 0.0673 - acc: 0.9779\n",
      "Epoch 13/16\n",
      "25000/25000 [==============================] - 1s 55us/step - loss: 0.0591 - acc: 0.9820\n",
      "Epoch 14/16\n",
      "25000/25000 [==============================] - 1s 56us/step - loss: 0.0528 - acc: 0.9832\n",
      "Epoch 15/16\n",
      "25000/25000 [==============================] - 1s 55us/step - loss: 0.0467 - acc: 0.9858\n",
      "Epoch 16/16\n",
      "25000/25000 [==============================] - 1s 55us/step - loss: 0.0419 - acc: 0.9875\n",
      "25000/25000 [==============================] - 1s 33us/step\n"
     ]
    },
    {
     "data": {
      "text/plain": [
       "[0.6245132003808022, 0.85368]"
      ]
     },
     "execution_count": 74,
     "metadata": {},
     "output_type": "execute_result"
    }
   ],
   "source": [
    "MyFirstNN(16,16,1,'relu','relu','sigmoid',16,512)"
   ]
  },
  {
   "cell_type": "markdown",
   "metadata": {},
   "source": [
    "#### 20 Epochs"
   ]
  },
  {
   "cell_type": "code",
   "execution_count": 75,
   "metadata": {},
   "outputs": [
    {
     "name": "stdout",
     "output_type": "stream",
     "text": [
      "Epoch 1/20\n",
      "25000/25000 [==============================] - 2s 63us/step - loss: 0.4607 - acc: 0.8281\n",
      "Epoch 2/20\n",
      "25000/25000 [==============================] - 1s 57us/step - loss: 0.2696 - acc: 0.9092\n",
      "Epoch 3/20\n",
      "25000/25000 [==============================] - 1s 57us/step - loss: 0.2072 - acc: 0.9281\n",
      "Epoch 4/20\n",
      "25000/25000 [==============================] - 1s 58us/step - loss: 0.1726 - acc: 0.9391\n",
      "Epoch 5/20\n",
      "25000/25000 [==============================] - 1s 56us/step - loss: 0.1487 - acc: 0.9481\n",
      "Epoch 6/20\n",
      "25000/25000 [==============================] - 1s 55us/step - loss: 0.1321 - acc: 0.9538\n",
      "Epoch 7/20\n",
      "25000/25000 [==============================] - 1s 55us/step - loss: 0.1182 - acc: 0.9602\n",
      "Epoch 8/20\n",
      "25000/25000 [==============================] - 1s 55us/step - loss: 0.1042 - acc: 0.9650\n",
      "Epoch 9/20\n",
      "25000/25000 [==============================] - 1s 55us/step - loss: 0.0942 - acc: 0.9692\n",
      "Epoch 10/20\n",
      "25000/25000 [==============================] - 1s 55us/step - loss: 0.0834 - acc: 0.9744\n",
      "Epoch 11/20\n",
      "25000/25000 [==============================] - 1s 55us/step - loss: 0.0746 - acc: 0.9771\n",
      "Epoch 12/20\n",
      "25000/25000 [==============================] - 1s 55us/step - loss: 0.0651 - acc: 0.9809\n",
      "Epoch 13/20\n",
      "25000/25000 [==============================] - 1s 56us/step - loss: 0.0577 - acc: 0.9830\n",
      "Epoch 14/20\n",
      "25000/25000 [==============================] - 1s 55us/step - loss: 0.0514 - acc: 0.9850\n",
      "Epoch 15/20\n",
      "25000/25000 [==============================] - 1s 55us/step - loss: 0.0454 - acc: 0.9876\n",
      "Epoch 16/20\n",
      "25000/25000 [==============================] - 1s 56us/step - loss: 0.0392 - acc: 0.9896\n",
      "Epoch 17/20\n",
      "25000/25000 [==============================] - 1s 56us/step - loss: 0.0343 - acc: 0.9914\n",
      "Epoch 18/20\n",
      "25000/25000 [==============================] - 1s 56us/step - loss: 0.0306 - acc: 0.9918\n",
      "Epoch 19/20\n",
      "25000/25000 [==============================] - 1s 57us/step - loss: 0.0244 - acc: 0.9945\n",
      "Epoch 20/20\n",
      "25000/25000 [==============================] - 1s 56us/step - loss: 0.0238 - acc: 0.9942\n",
      "25000/25000 [==============================] - 1s 35us/step\n"
     ]
    },
    {
     "data": {
      "text/plain": [
       "[0.8541434471225738, 0.83424]"
      ]
     },
     "execution_count": 75,
     "metadata": {},
     "output_type": "execute_result"
    }
   ],
   "source": [
    "MyFirstNN(16,16,1,'relu','relu','sigmoid',20,512)"
   ]
  },
  {
   "cell_type": "markdown",
   "metadata": {},
   "source": [
    "#### 4 Epochs-Relu At the third layer "
   ]
  },
  {
   "cell_type": "code",
   "execution_count": 90,
   "metadata": {},
   "outputs": [
    {
     "name": "stdout",
     "output_type": "stream",
     "text": [
      "Epoch 1/4\n",
      "25000/25000 [==============================] - 2s 84us/step - loss: 0.4414 - acc: 0.8240\n",
      "Epoch 2/4\n",
      "25000/25000 [==============================] - 1s 59us/step - loss: 0.2544 - acc: 0.9099\n",
      "Epoch 3/4\n",
      "25000/25000 [==============================] - 1s 59us/step - loss: 0.1988 - acc: 0.9294\n",
      "Epoch 4/4\n",
      "25000/25000 [==============================] - 1s 59us/step - loss: 0.1662 - acc: 0.9414\n",
      "25000/25000 [==============================] - 1s 39us/step\n"
     ]
    },
    {
     "data": {
      "text/plain": [
       "[0.3000844235467911, 0.88208]"
      ]
     },
     "execution_count": 90,
     "metadata": {},
     "output_type": "execute_result"
    }
   ],
   "source": [
    "MyFirstNN(16,16,1,'relu','relu','sigmoid',4,512)"
   ]
  },
  {
   "cell_type": "code",
   "execution_count": 89,
   "metadata": {},
   "outputs": [
    {
     "name": "stdout",
     "output_type": "stream",
     "text": [
      "Epoch 1/4\n",
      "25000/25000 [==============================] - 2s 87us/step - loss: 0.4239 - acc: 0.8064\n",
      "Epoch 2/4\n",
      "25000/25000 [==============================] - 2s 69us/step - loss: 0.2361 - acc: 0.9090\n",
      "Epoch 3/4\n",
      "25000/25000 [==============================] - 2s 75us/step - loss: 0.1838 - acc: 0.9303\n",
      "Epoch 4/4\n",
      "25000/25000 [==============================] - 2s 68us/step - loss: 0.1476 - acc: 0.9448\n",
      "25000/25000 [==============================] - 2s 75us/step\n"
     ]
    },
    {
     "data": {
      "text/plain": [
       "[0.3455778130483627, 0.86836]"
      ]
     },
     "execution_count": 89,
     "metadata": {},
     "output_type": "execute_result"
    }
   ],
   "source": [
    "MyFirstNN(64,64,1,'relu','relu','sigmoid',4,512)"
   ]
  },
  {
   "cell_type": "code",
   "execution_count": 91,
   "metadata": {},
   "outputs": [
    {
     "name": "stdout",
     "output_type": "stream",
     "text": [
      "Epoch 1/4\n",
      "25000/25000 [==============================] - 2s 74us/step - loss: 0.6161 - acc: 0.6786\n",
      "Epoch 2/4\n",
      "25000/25000 [==============================] - 1s 51us/step - loss: 0.5208 - acc: 0.8129\n",
      "Epoch 3/4\n",
      "25000/25000 [==============================] - 1s 50us/step - loss: 0.4742 - acc: 0.8617\n",
      "Epoch 4/4\n",
      "25000/25000 [==============================] - 1s 49us/step - loss: 0.4419 - acc: 0.8872\n",
      "25000/25000 [==============================] - 1s 29us/step\n"
     ]
    },
    {
     "data": {
      "text/plain": [
       "[0.4642526788043976, 0.86376]"
      ]
     },
     "execution_count": 91,
     "metadata": {},
     "output_type": "execute_result"
    }
   ],
   "source": [
    "MyFirstNN(1,1,1,'relu','relu','sigmoid',4,512)"
   ]
  },
  {
   "cell_type": "code",
   "execution_count": 96,
   "metadata": {},
   "outputs": [
    {
     "name": "stdout",
     "output_type": "stream",
     "text": [
      "Epoch 1/4\n",
      "25000/25000 [==============================] - 2s 79us/step - loss: 0.6186 - acc: 0.6689\n",
      "Epoch 2/4\n",
      "25000/25000 [==============================] - 1s 59us/step - loss: 0.5313 - acc: 0.8004\n",
      "Epoch 3/4\n",
      "25000/25000 [==============================] - 2s 61us/step - loss: 0.4823 - acc: 0.8533\n",
      "Epoch 4/4\n",
      "25000/25000 [==============================] - 1s 59us/step - loss: 0.4470 - acc: 0.8827\n",
      "25000/25000 [==============================] - 1s 37us/step\n"
     ]
    },
    {
     "data": {
      "text/plain": [
       "[0.4679761143779755, 0.84604]"
      ]
     },
     "execution_count": 96,
     "metadata": {},
     "output_type": "execute_result"
    }
   ],
   "source": [
    "MyFirstNN(2,2,1,'relu','relu','sigmoid',4,512)"
   ]
  },
  {
   "cell_type": "code",
   "execution_count": 97,
   "metadata": {},
   "outputs": [
    {
     "name": "stdout",
     "output_type": "stream",
     "text": [
      "Epoch 1/4\n",
      "25000/25000 [==============================] - 2s 83us/step - loss: 0.5594 - acc: 0.7718\n",
      "Epoch 2/4\n",
      "25000/25000 [==============================] - 2s 63us/step - loss: 0.4597 - acc: 0.8842\n",
      "Epoch 3/4\n",
      "25000/25000 [==============================] - 2s 64us/step - loss: 0.4200 - acc: 0.9103\n",
      "Epoch 4/4\n",
      "25000/25000 [==============================] - 2s 65us/step - loss: 0.3923 - acc: 0.9253\n",
      "25000/25000 [==============================] - 1s 52us/step\n"
     ]
    },
    {
     "data": {
      "text/plain": [
       "[0.46172148542404173, 0.87056]"
      ]
     },
     "execution_count": 97,
     "metadata": {},
     "output_type": "execute_result"
    }
   ],
   "source": [
    "MyFirstNN(32,2,1,'relu','relu','sigmoid',4,512)"
   ]
  },
  {
   "cell_type": "code",
   "execution_count": 98,
   "metadata": {},
   "outputs": [
    {
     "name": "stdout",
     "output_type": "stream",
     "text": [
      "Epoch 1/4\n",
      "25000/25000 [==============================] - 2s 81us/step - loss: 0.4531 - acc: 0.8258\n",
      "Epoch 2/4\n",
      "25000/25000 [==============================] - 1s 59us/step - loss: 0.2610 - acc: 0.9109\n",
      "Epoch 3/4\n",
      "25000/25000 [==============================] - 2s 63us/step - loss: 0.1938 - acc: 0.9303\n",
      "Epoch 4/4\n",
      "25000/25000 [==============================] - 1s 60us/step - loss: 0.1591 - acc: 0.9440\n",
      "25000/25000 [==============================] - 1s 41us/step\n"
     ]
    },
    {
     "data": {
      "text/plain": [
       "[0.2946788641691208, 0.88284]"
      ]
     },
     "execution_count": 98,
     "metadata": {},
     "output_type": "execute_result"
    }
   ],
   "source": [
    "MyFirstNN(16,16,1,'tanh','relu','sigmoid',4,512)"
   ]
  },
  {
   "cell_type": "code",
   "execution_count": 99,
   "metadata": {},
   "outputs": [
    {
     "name": "stdout",
     "output_type": "stream",
     "text": [
      "Epoch 1/4\n",
      "25000/25000 [==============================] - 2s 81us/step - loss: 0.4305 - acc: 0.8339\n",
      "Epoch 2/4\n",
      "25000/25000 [==============================] - 1s 59us/step - loss: 0.2379 - acc: 0.9149\n",
      "Epoch 3/4\n",
      "25000/25000 [==============================] - 1s 59us/step - loss: 0.1808 - acc: 0.9342\n",
      "Epoch 4/4\n",
      "25000/25000 [==============================] - 1s 59us/step - loss: 0.1488 - acc: 0.9466\n",
      "25000/25000 [==============================] - 1s 45us/step\n"
     ]
    },
    {
     "data": {
      "text/plain": [
       "[0.32584676859378814, 0.8766]"
      ]
     },
     "execution_count": 99,
     "metadata": {},
     "output_type": "execute_result"
    }
   ],
   "source": [
    "MyFirstNN(16,16,1,'tanh','tanh','sigmoid',4,512)"
   ]
  },
  {
   "cell_type": "code",
   "execution_count": 100,
   "metadata": {},
   "outputs": [
    {
     "name": "stdout",
     "output_type": "stream",
     "text": [
      "Epoch 1/4\n",
      "25000/25000 [==============================] - 2s 90us/step - loss: 0.4166 - acc: 0.8304\n",
      "Epoch 2/4\n",
      "25000/25000 [==============================] - 1s 59us/step - loss: 0.2300 - acc: 0.9148\n",
      "Epoch 3/4\n",
      "25000/25000 [==============================] - 1s 59us/step - loss: 0.1788 - acc: 0.9335\n",
      "Epoch 4/4\n",
      "25000/25000 [==============================] - 1s 59us/step - loss: 0.1514 - acc: 0.9446\n",
      "25000/25000 [==============================] - 1s 44us/step\n"
     ]
    },
    {
     "data": {
      "text/plain": [
       "[0.32697456161975863, 0.87884]"
      ]
     },
     "execution_count": 100,
     "metadata": {},
     "output_type": "execute_result"
    }
   ],
   "source": [
    "MyFirstNN(16,16,1,'tanh','linear','sigmoid',4,512)"
   ]
  },
  {
   "cell_type": "code",
   "execution_count": 32,
   "metadata": {},
   "outputs": [],
   "source": [
    "def MyFirstNN_v2(h_a, h_b, h_c, f_a, f_b, f_c, n_epoch, batchsize,optimizer_,loss_,metrics_):\n",
    "    model=models.Sequential()\n",
    "    model.add(layers.Dense(h_a, activation=f_a,input_shape=(10000,)))\n",
    "    model.add(layers.Dense(h_b, activation=f_b))\n",
    "    model.add(layers.Dense(h_c, activation=f_c))\n",
    "    \n",
    "    model.compile(optimizer=optimizer_,\n",
    "              loss=loss_,\n",
    "              metrics=[metrics_])\n",
    "    \n",
    "    model.fit(x_train, y_train, epochs=n_epoch, batch_size=batchsize)\n",
    "    reults  =model.evaluate(x_test, y_test)\n",
    "    return reults\n",
    "    "
   ]
  },
  {
   "cell_type": "code",
   "execution_count": 116,
   "metadata": {},
   "outputs": [
    {
     "name": "stdout",
     "output_type": "stream",
     "text": [
      "Epoch 1/4\n",
      "25000/25000 [==============================] - 2s 86us/step - loss: 0.4052 - acc: 0.8302\n",
      "Epoch 2/4\n",
      "25000/25000 [==============================] - 2s 61us/step - loss: 0.2303 - acc: 0.9120\n",
      "Epoch 3/4\n",
      "25000/25000 [==============================] - 2s 65us/step - loss: 0.1784 - acc: 0.9329\n",
      "Epoch 4/4\n",
      "25000/25000 [==============================] - 2s 64us/step - loss: 0.1527 - acc: 0.9429\n",
      "25000/25000 [==============================] - 2s 64us/step\n"
     ]
    },
    {
     "data": {
      "text/plain": [
       "[0.33901859208106994, 0.87496]"
      ]
     },
     "execution_count": 116,
     "metadata": {},
     "output_type": "execute_result"
    }
   ],
   "source": [
    "MyFirstNN_v2(16,16,1,'tanh','linear','sigmoid',4,512,'rmsprop','binary_crossentropy','accuracy')"
   ]
  },
  {
   "cell_type": "code",
   "execution_count": 33,
   "metadata": {},
   "outputs": [
    {
     "name": "stdout",
     "output_type": "stream",
     "text": [
      "Epoch 1/4\n",
      "25000/25000 [==============================] - 2s 61us/step - loss: 0.1389 - acc: 0.8286\n",
      "Epoch 2/4\n",
      "25000/25000 [==============================] - 1s 57us/step - loss: 0.0695 - acc: 0.9148\n",
      "Epoch 3/4\n",
      "25000/25000 [==============================] - 1s 58us/step - loss: 0.0520 - acc: 0.9329\n",
      "Epoch 4/4\n",
      "25000/25000 [==============================] - 1s 57us/step - loss: 0.0416 - acc: 0.9479\n",
      "25000/25000 [==============================] - 1s 29us/step\n"
     ]
    },
    {
     "data": {
      "text/plain": [
       "[0.0958843007400632, 0.87444]"
      ]
     },
     "execution_count": 33,
     "metadata": {},
     "output_type": "execute_result"
    }
   ],
   "source": [
    "MyFirstNN_v2(16,16,1,'tanh','linear','sigmoid',4,512,'rmsprop','mse','accuracy')"
   ]
  },
  {
   "cell_type": "code",
   "execution_count": null,
   "metadata": {},
   "outputs": [],
   "source": []
  }
 ],
 "metadata": {
  "kernelspec": {
   "display_name": "Python 3",
   "language": "python",
   "name": "python3"
  },
  "language_info": {
   "codemirror_mode": {
    "name": "ipython",
    "version": 3
   },
   "file_extension": ".py",
   "mimetype": "text/x-python",
   "name": "python",
   "nbconvert_exporter": "python",
   "pygments_lexer": "ipython3",
   "version": "3.6.5"
  }
 },
 "nbformat": 4,
 "nbformat_minor": 2
}
